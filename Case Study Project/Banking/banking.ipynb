{
 "cells": [
  {
   "cell_type": "code",
   "execution_count": null,
   "metadata": {},
   "outputs": [],
   "source": [
    "import pandas as pd\n",
    "import seaborn as sns\n",
    "import numpy as np\n",
    "import matplotlib.pyplot as plt\n",
    "from scipy.stats import chi2_contingency"
   ]
  },
  {
   "cell_type": "code",
   "execution_count": null,
   "metadata": {},
   "outputs": [],
   "source": [
    "df = pd.read_csv(\"banking_data.csv\")"
   ]
  },
  {
   "cell_type": "code",
   "execution_count": null,
   "metadata": {},
   "outputs": [],
   "source": [
    "# Let us find potential redundancy between columns \"marital\" and \"marital_status\".\n",
    "print(df['marital'].value_counts())\n",
    "print(\"\\n\")\n",
    "print(df['marital_status'].value_counts())\n",
    "print(\"\\n\")"
   ]
  },
  {
   "cell_type": "code",
   "execution_count": null,
   "metadata": {},
   "outputs": [],
   "source": [
    "# As we can observe, the columns \"marital\" and \"marital_status\" are the same. Thus, we can drop one of them.\n",
    "df.drop(columns=['marital_status'], inplace=True)\n",
    "print(df.columns)"
   ]
  },
  {
   "cell_type": "code",
   "execution_count": null,
   "metadata": {},
   "outputs": [],
   "source": [
    "# Let us find the number of missing values in each column of the data set.\n",
    "print(df.isnull().sum())"
   ]
  },
  {
   "cell_type": "code",
   "execution_count": null,
   "metadata": {},
   "outputs": [],
   "source": [
    "# The \"marital\" column is a categorical variable with just 3 categoies. Thus, we can replace the null values present in this column with the mode, using the imputation technique.\n",
    "df['marital'] = df['marital'].fillna(df['marital'].mode()[0])\n",
    "\n",
    "# The \"education\" column is a categorical variable with just 4 columns. Thus, we can replace the null values present in this column with the mode, using the imputation technique.\n",
    "df['education'] = df['education'].fillna(df['education'].mode()[0])\n",
    "\n",
    "# Let us check whether we were able to remove the null values in these columns.\n",
    "print(df.isnull().sum())"
   ]
  },
  {
   "cell_type": "code",
   "execution_count": null,
   "metadata": {},
   "outputs": [],
   "source": [
    "# Answer 1\n",
    "sns.histplot(data=df['age'])\n",
    "plt.title(\"Distribuiton of age among the clients\")\n",
    "plt.xlabel('Ages')\n",
    "plt.ylabel(\"Number of clients\")\n",
    "plt.show()"
   ]
  },
  {
   "cell_type": "code",
   "execution_count": null,
   "metadata": {},
   "outputs": [],
   "source": [
    "# Answer 2\n",
    "sns.histplot(data=df['job'])\n",
    "plt.title(\"Variation of job type among the clients\")\n",
    "plt.xticks(rotation=45)\n",
    "plt.xlabel(\"Job type\")\n",
    "plt.ylabel(\"Number of clients\")\n",
    "plt.show()"
   ]
  },
  {
   "cell_type": "code",
   "execution_count": null,
   "metadata": {},
   "outputs": [],
   "source": [
    "# Answer 3\n",
    "sns.histplot(data=df['marital'])\n",
    "plt.title(\"Variation of marital status of the clients\")\n",
    "plt.xlabel(\"Marital status\")\n",
    "plt.ylabel(\"Number of clients\")\n",
    "plt.show()"
   ]
  },
  {
   "cell_type": "code",
   "execution_count": null,
   "metadata": {},
   "outputs": [],
   "source": [
    "# Answer 4\n",
    "sns.histplot(data=df['education'])\n",
    "plt.title(\"Variation of level of education among the clients\")\n",
    "plt.xlabel(\"Level of education\")\n",
    "plt.ylabel(\"Number of clients\")\n",
    "plt.show()"
   ]
  },
  {
   "cell_type": "code",
   "execution_count": null,
   "metadata": {},
   "outputs": [],
   "source": [
    "# Answer 5\n",
    "sns.histplot(data=df['default'])\n",
    "plt.title(\"Proportion of clients who have credit by default\")\n",
    "plt.xlabel(\"Have credit by default\")\n",
    "plt.ylabel(\"Number of clients\")\n",
    "plt.show()"
   ]
  },
  {
   "cell_type": "code",
   "execution_count": null,
   "metadata": {},
   "outputs": [],
   "source": [
    "# Answer 6\n",
    "sns.histplot(data=df['balance'])\n",
    "plt.title(\"Distribution of average yearly balance among the clients\")\n",
    "plt.xlabel(\"Average yearly balance\")\n",
    "plt.ylabel(\"Number of clients\")\n",
    "plt.show()"
   ]
  },
  {
   "cell_type": "code",
   "execution_count": null,
   "metadata": {},
   "outputs": [],
   "source": [
    "# Answer 7\n",
    "sns.histplot(data=df['housing'])\n",
    "plt.title(\"Clients having house loans\")\n",
    "plt.xlabel(\"Have house loans\")\n",
    "plt.ylabel(\"Number of clients\")\n",
    "plt.show()"
   ]
  },
  {
   "cell_type": "code",
   "execution_count": null,
   "metadata": {},
   "outputs": [],
   "source": [
    "# Answer 8\n",
    "sns.histplot(data=df['loan'])\n",
    "plt.title(\"Clients having personal loans\")\n",
    "plt.xlabel(\"Have personal loans\")\n",
    "plt.ylabel(\"Number of clients\")\n",
    "plt.show()"
   ]
  },
  {
   "cell_type": "code",
   "execution_count": null,
   "metadata": {},
   "outputs": [],
   "source": [
    "# Answer 9\n",
    "sns.histplot(data=df['contact'])\n",
    "plt.title(\"Communication types used for contacting clients during the campaign\")\n",
    "plt.xlabel(\"Communication types\")\n",
    "plt.ylabel(\"Number of clients\")\n",
    "plt.show()"
   ]
  },
  {
   "cell_type": "code",
   "execution_count": null,
   "metadata": {},
   "outputs": [],
   "source": [
    "# Answer 10\n",
    "sns.histplot(data=df['day'])\n",
    "plt.title(\"Distribution of the last contact day of the month\")\n",
    "plt.xlabel(\"Last contact day of the month\")\n",
    "plt.ylabel(\"Number of clients\")\n",
    "plt.show()"
   ]
  },
  {
   "cell_type": "code",
   "execution_count": null,
   "metadata": {},
   "outputs": [],
   "source": [
    "# Answer 11\n",
    "sns.histplot(data=df['month'])\n",
    "plt.title(\"Distribution of the last contact month\")\n",
    "plt.xlabel(\"Last contact month\")\n",
    "plt.ylabel(\"Number of clients\")\n",
    "plt.show()"
   ]
  },
  {
   "cell_type": "code",
   "execution_count": null,
   "metadata": {},
   "outputs": [],
   "source": [
    "# Answer 12\n",
    "sns.histplot(data=df['duration'])\n",
    "plt.title(\"Distribution of the duration of the last contact\")\n",
    "plt.xlabel(\"Duration of last contact in seconds\")\n",
    "plt.ylabel(\"Number of clients\")\n",
    "plt.show()"
   ]
  },
  {
   "cell_type": "code",
   "execution_count": null,
   "metadata": {},
   "outputs": [],
   "source": [
    "# Answer 13\n",
    "sns.histplot(data=df['campaign'])\n",
    "plt.title(\"Number of contacts that were performed during the campaign for each client\")\n",
    "plt.xlabel(\"Number of contacts that were performed during the campaign\")\n",
    "plt.ylabel(\"Number of clients\")\n",
    "plt.show()"
   ]
  },
  {
   "cell_type": "code",
   "execution_count": null,
   "metadata": {},
   "outputs": [],
   "source": [
    "# Answer 14\n",
    "sns.histplot(data=df['pdays'])\n",
    "plt.title(\"Distribution of the number of days passed since the client was last contacted from a previous campaign\")\n",
    "plt.xlabel(\"Number of days passed since the client was last contacted from a previous campaign\")\n",
    "plt.ylabel(\"Number of clients\")\n",
    "plt.show()"
   ]
  },
  {
   "cell_type": "code",
   "execution_count": null,
   "metadata": {},
   "outputs": [],
   "source": [
    "# Answer 15\n",
    "sns.histplot(data=df['previous'])\n",
    "plt.title(\"Distribution of contacts that were performed before the current campaign for each client\")\n",
    "plt.xlabel(\"Number of contacts that were performed before the current campaign\")\n",
    "plt.ylabel(\"Number of clients\")\n",
    "plt.show()"
   ]
  },
  {
   "cell_type": "code",
   "execution_count": null,
   "metadata": {},
   "outputs": [],
   "source": [
    "# Answer 16\n",
    "sns.histplot(data=df['poutcome'])\n",
    "plt.title(\"Distribution of outcomes of the previous marketing campaigns\")\n",
    "plt.xlabel(\"Outcomes of the previous marketing campaigns\")\n",
    "plt.ylabel(\"Number of clients\")\n",
    "plt.show()"
   ]
  },
  {
   "cell_type": "code",
   "execution_count": null,
   "metadata": {},
   "outputs": [],
   "source": [
    "# Answer 17\n",
    "sns.histplot(data=df['y'])\n",
    "plt.title(\"Distribution of subscription of clients to a term deposit\")\n",
    "plt.xlabel(\"Whether a client subscribed to a term deposit\")\n",
    "plt.ylabel(\"Number of clients\")\n",
    "plt.show()"
   ]
  },
  {
   "cell_type": "code",
   "execution_count": null,
   "metadata": {},
   "outputs": [],
   "source": [
    "# Answer 18\n",
    "# Replacing \"yes\" and \"no\" with 1 and 0 in the \"y\" column so that it gets included in all the numeric variables used in the correlation matrix\n",
    "df['y_Numeric'] = df['y'].map({\"yes\":1, \"no\":0})\n",
    "numeric_df = df.select_dtypes(include=['int64', 'float64'])\n",
    "corr_matrix = numeric_df.corr()\n",
    "plt.figure(figsize=(10, 8)) # Height-width figure size\n",
    "sns.heatmap(corr_matrix, annot=True, cmap='PuBuGn', fmt='.2f') # Pu is purple, Bu is blue and Gn is green. Pu is highest negative correlation and Gn is highest positive correlation.\n",
    "plt.title('Correlation Matrix of Banking Dataset')\n",
    "plt.show()\n",
    "\n",
    "# Non numeric variables : job, marital, education, default, housing, loan, contact, month, poutcome"
   ]
  },
  {
   "cell_type": "code",
   "execution_count": null,
   "metadata": {},
   "outputs": [],
   "source": [
    "# Answer 18 : Relationship between job and y\n",
    "sns.countplot(x='job', hue='y', data=df)\n",
    "plt.title(\"Relationship between y and job\")\n",
    "plt.xlabel(\"Job categories\")\n",
    "plt.xticks(rotation=60)\n",
    "plt.ylabel(\"Number of clients\")\n",
    "plt.show()\n",
    "\n",
    "# Applying the chi square test of independence on job type and y\n",
    "contingency_Table = pd.crosstab(df['job'], df['y'])\n",
    "chi2, p, dof, expected = chi2_contingency(contingency_Table)\n",
    "alpha = 0.05\n",
    "print(f'Chi-square statistic: {chi2}')\n",
    "print(f'P-value: {p}')\n",
    "if p <= alpha:\n",
    "    print(\"Reject the null hypothesis: There is a significant association between the variables.\")\n",
    "else:\n",
    "    print(\"Fail to reject the null hypothesis: There is no significant association between the variables.\")"
   ]
  },
  {
   "cell_type": "code",
   "execution_count": null,
   "metadata": {},
   "outputs": [],
   "source": [
    "# Answer 18 : Relationship between marital status and y\n",
    "sns.countplot(x='marital', hue='y', data=df)\n",
    "plt.title(\"Relationship between y and marital status\")\n",
    "plt.xlabel(\"Marital status\")\n",
    "plt.xticks(rotation=60)\n",
    "plt.ylabel(\"Number of clients\")\n",
    "plt.show()\n",
    "\n",
    "# Applying the chi square test of independence on marital status and y\n",
    "contingency_Table = pd.crosstab(df['marital'], df['y'])\n",
    "chi2, p, dof, expected = chi2_contingency(contingency_Table)\n",
    "alpha = 0.05\n",
    "print(f'Chi-square statistic: {chi2}')\n",
    "print(f'P-value: {p}')\n",
    "if p <= alpha:\n",
    "    print(\"Reject the null hypothesis: There is a significant association between the variables.\")\n",
    "else:\n",
    "    print(\"Fail to reject the null hypothesis: There is no significant association between the variables.\")"
   ]
  },
  {
   "cell_type": "code",
   "execution_count": null,
   "metadata": {},
   "outputs": [],
   "source": [
    "# Answer 18 : Relationship between education and y\n",
    "sns.countplot(x='education', hue='y', data=df)\n",
    "plt.title(\"Relationship between y and education\")\n",
    "plt.xlabel(\"Education\")\n",
    "plt.xticks(rotation=60)\n",
    "plt.ylabel(\"Number of clients\")\n",
    "plt.show()\n",
    "\n",
    "# Applying the chi square test of independence on education and y\n",
    "contingency_Table = pd.crosstab(df['education'], df['y'])\n",
    "chi2, p, dof, expected = chi2_contingency(contingency_Table)\n",
    "alpha = 0.05\n",
    "print(f'Chi-square statistic: {chi2}')\n",
    "print(f'P-value: {p}')\n",
    "if p <= alpha:\n",
    "    print(\"Reject the null hypothesis: There is a significant association between the variables.\")\n",
    "else:\n",
    "    print(\"Fail to reject the null hypothesis: There is no significant association between the variables.\")"
   ]
  },
  {
   "cell_type": "code",
   "execution_count": null,
   "metadata": {},
   "outputs": [],
   "source": [
    "# Answer 18 : Relationship between whether the client has credit in default and y\n",
    "sns.countplot(x='default', hue='y', data=df)\n",
    "plt.title(\"Relationship between y and whether the client has credit in default\")\n",
    "plt.xlabel(\"Whether the client has credit in default\")\n",
    "plt.xticks(rotation=60)\n",
    "plt.ylabel(\"Number of clients\")\n",
    "plt.show()\n",
    "\n",
    "# Non numeric variables : job, marital, education, default, housing, loan, contact, month, poutcome\n",
    "\n",
    "# Applying the chi square test of independence on having credit in default and y\n",
    "contingency_Table = pd.crosstab(df['default'], df['y'])\n",
    "chi2, p, dof, expected = chi2_contingency(contingency_Table)\n",
    "alpha = 0.05\n",
    "print(f'Chi-square statistic: {chi2}')\n",
    "print(f'P-value: {p}')\n",
    "if p <= alpha:\n",
    "    print(\"Reject the null hypothesis: There is a significant association between the variables.\")\n",
    "else:\n",
    "    print(\"Fail to reject the null hypothesis: There is no significant association between the variables.\")"
   ]
  },
  {
   "cell_type": "code",
   "execution_count": null,
   "metadata": {},
   "outputs": [],
   "source": [
    "# Answer 18 : Relationship between housing loan and y\n",
    "sns.countplot(x='housing', hue='y', data=df)\n",
    "plt.title(\"Relationship between y and taking of housing loan\")\n",
    "plt.xlabel(\"Whether housing loan is taken\")\n",
    "plt.xticks(rotation=60)\n",
    "plt.ylabel(\"Number of clients\")\n",
    "plt.show()\n",
    "\n",
    "# Non numeric variables : job, marital, education, default, housing, loan, contact, month, poutcome\n",
    "\n",
    "# Applying the chi square test of independence on housing loan and y\n",
    "contingency_Table = pd.crosstab(df['housing'], df['y'])\n",
    "chi2, p, dof, expected = chi2_contingency(contingency_Table)\n",
    "alpha = 0.05\n",
    "print(f'Chi-square statistic: {chi2}')\n",
    "print(f'P-value: {p}')\n",
    "if p <= alpha:\n",
    "    print(\"Reject the null hypothesis: There is a significant association between the variables.\")\n",
    "else:\n",
    "    print(\"Fail to reject the null hypothesis: There is no significant association between the variables.\")"
   ]
  },
  {
   "cell_type": "code",
   "execution_count": null,
   "metadata": {},
   "outputs": [],
   "source": [
    "# Answer 18 : Relationship between personal loan and y\n",
    "sns.countplot(x='loan', hue='y', data=df)\n",
    "plt.title(\"Relationship between y and taking of persoanl loan\")\n",
    "plt.xlabel(\"Whether personal loan is taken\")\n",
    "plt.xticks(rotation=60)\n",
    "plt.ylabel(\"Number of clients\")\n",
    "plt.show()\n",
    "\n",
    "# Non numeric variables : job, marital, education, default, housing, loan, contact, month, poutcome\n",
    "\n",
    "# Applying the chi square test of independence on personal loan and y\n",
    "contingency_Table = pd.crosstab(df['loan'], df['y'])\n",
    "chi2, p, dof, expected = chi2_contingency(contingency_Table)\n",
    "alpha = 0.05\n",
    "print(f'Chi-square statistic: {chi2}')\n",
    "print(f'P-value: {p}')\n",
    "if p <= alpha:\n",
    "    print(\"Reject the null hypothesis: There is a significant association between the variables.\")\n",
    "else:\n",
    "    print(\"Fail to reject the null hypothesis: There is no significant association between the variables.\")"
   ]
  },
  {
   "cell_type": "code",
   "execution_count": null,
   "metadata": {},
   "outputs": [],
   "source": [
    "# Answer 18 : Relationship between type of communication and y\n",
    "sns.countplot(x='contact', hue='y', data=df)\n",
    "plt.title(\"Relationship between type of communication and y\")\n",
    "plt.xlabel(\"Type of communication\")\n",
    "plt.xticks(rotation=60)\n",
    "plt.ylabel(\"Number of clients\")\n",
    "plt.show()\n",
    "\n",
    "# Non numeric variables : job, marital, education, default, housing, loan, contact, month, poutcome\n",
    "\n",
    "# Applying the chi square test of independence on type of communication and y\n",
    "contingency_Table = pd.crosstab(df['contact'], df['y'])\n",
    "chi2, p, dof, expected = chi2_contingency(contingency_Table)\n",
    "alpha = 0.05\n",
    "print(f'Chi-square statistic: {chi2}')\n",
    "print(f'P-value: {p}')\n",
    "if p <= alpha:\n",
    "    print(\"Reject the null hypothesis: There is a significant association between the variables.\")\n",
    "else:\n",
    "    print(\"Fail to reject the null hypothesis: There is no significant association between the variables.\")"
   ]
  },
  {
   "cell_type": "code",
   "execution_count": null,
   "metadata": {},
   "outputs": [],
   "source": [
    "# Answer 18 : Relationship between last contact month of the year and y\n",
    "sns.countplot(x='month', hue='y', data=df)\n",
    "plt.title(\"Relationship between last contact month of the year and y\")\n",
    "plt.xlabel(\"Last contact month of the year\")\n",
    "plt.xticks(rotation=60)\n",
    "plt.ylabel(\"Number of clients\")\n",
    "plt.show()\n",
    "\n",
    "# Non numeric variables : job, marital, education, default, housing, loan, contact, month, poutcome\n",
    "\n",
    "# Applying the chi square test of independence on last contact month of the year and y\n",
    "contingency_Table = pd.crosstab(df['month'], df['y'])\n",
    "chi2, p, dof, expected = chi2_contingency(contingency_Table)\n",
    "alpha = 0.05\n",
    "print(f'Chi-square statistic: {chi2}')\n",
    "print(f'P-value: {p}')\n",
    "if p <= alpha:\n",
    "    print(\"Reject the null hypothesis: There is a significant association between the variables.\")\n",
    "else:\n",
    "    print(\"Fail to reject the null hypothesis: There is no significant association between the variables.\")"
   ]
  },
  {
   "cell_type": "code",
   "execution_count": null,
   "metadata": {},
   "outputs": [],
   "source": [
    "# Answer 18 : Relationship between outcome of the previous marketing campaign and y\n",
    "sns.countplot(x='poutcome', hue='y', data=df)\n",
    "plt.title(\"Relationship between outcome of the previous marketing campaign and y\")\n",
    "plt.xlabel(\"Outcome of the previous marketing campaign\")\n",
    "plt.xticks(rotation=60)\n",
    "plt.ylabel(\"Number of clients\")\n",
    "plt.show()\n",
    "\n",
    "# Non numeric variables : job, marital, education, default, housing, loan, contact, month, poutcome\n",
    "\n",
    "# Applying the chi square test of independence on outcome of the previous marketing campaign and y\n",
    "contingency_Table = pd.crosstab(df['poutcome'], df['y'])\n",
    "chi2, p, dof, expected = chi2_contingency(contingency_Table)\n",
    "alpha = 0.05\n",
    "print(f'Chi-square statistic: {chi2}')\n",
    "print(f'P-value: {p}')\n",
    "if p <= alpha:\n",
    "    print(\"Reject the null hypothesis: There is a significant association between the variables.\")\n",
    "else:\n",
    "    print(\"Fail to reject the null hypothesis: There is no significant association between the variables.\")"
   ]
  }
 ],
 "metadata": {
  "kernelspec": {
   "display_name": "virtualenv",
   "language": "python",
   "name": "python3"
  },
  "language_info": {
   "codemirror_mode": {
    "name": "ipython",
    "version": 3
   },
   "file_extension": ".py",
   "mimetype": "text/x-python",
   "name": "python",
   "nbconvert_exporter": "python",
   "pygments_lexer": "ipython3",
   "version": "3.12.0"
  }
 },
 "nbformat": 4,
 "nbformat_minor": 2
}
